{
 "cells": [
  {
   "cell_type": "markdown",
   "id": "98d8ebcd-5a8d-4e6d-a045-6de4bf0f5bbd",
   "metadata": {
    "tags": []
   },
   "source": [
    "## Görev 1\n",
    "***Bir listeyi düzleştiren (flatten) fonksiyon yazın.***\n",
    "***Elemanları birden çok katmanlı listelerden ([[3],2] gibi) oluşabileceği gibi, non-scalar verilerden de oluşabilir.***"
   ]
  },
  {
   "cell_type": "code",
   "execution_count": 13,
   "id": "a2bbbdd9-2f46-494a-b205-ba39bb217ea8",
   "metadata": {},
   "outputs": [
    {
     "name": "stdout",
     "output_type": "stream",
     "text": [
      "[[7, 6, 5], [4, 3], [2, 1]]\n"
     ]
    }
   ],
   "source": [
    "def reverse(x):\n",
    "    sonuc = []\n",
    "    for element in x:\n",
    "        if isinstance(element, list):\n",
    "            sonuc.append(reverse(element))\n",
    "        else:\n",
    "            sonuc.append(element)\n",
    "    return sonuc[::-1]\n",
    "\n",
    "# Örnek kullanım\n",
    "input_x = [[1, 2], [3, 4], [5, 6, 7]]\n",
    "output_x = reverse(input_x)\n",
    "print(output_x)  # [[[7, 6, 5], [4, 3], [2, 1]]]\n"
   ]
  },
  {
   "cell_type": "markdown",
   "id": "f2b7134c-f62e-45f5-bfcf-6b33221a0431",
   "metadata": {},
   "source": [
    "## Görev 2\n",
    "***Verilen listenin içindeki elemanları tersine döndüren bir fonksiyon yazın.***\n",
    "***Eğer listenin içindeki elemanlar da liste içeriyorsa onların elemanlarını da tersine döndürün.***"
   ]
  },
  {
   "cell_type": "code",
   "execution_count": 12,
   "id": "67881ab5-ec36-43ec-9721-33afb58e8154",
   "metadata": {
    "tags": []
   },
   "outputs": [
    {
     "name": "stdout",
     "output_type": "stream",
     "text": [
      "[1, 'a', 'cat', 2, 3, 'dog', 4, 5]\n"
     ]
    }
   ],
   "source": [
    "def flatten(x):\n",
    "    sonuc = []\n",
    "    for element in x:\n",
    "        if isinstance(element, list):\n",
    "            sonuc.extend(flatten(element))\n",
    "        else:\n",
    "            sonuc.append(element)\n",
    "    return sonuc\n",
    "\n",
    "input_x = [[1,'a',['cat'],2],[[[3]],'dog'],4,5]\n",
    "output_x = flatten(input_x)\n",
    "print(output_x)  # [1, 'a', 'cat', 2, 3, 'dog', 4, 5]\n"
   ]
  }
 ],
 "metadata": {
  "kernelspec": {
   "display_name": "Python 3 (ipykernel)",
   "language": "python",
   "name": "python3"
  },
  "language_info": {
   "codemirror_mode": {
    "name": "ipython",
    "version": 3
   },
   "file_extension": ".py",
   "mimetype": "text/x-python",
   "name": "python",
   "nbconvert_exporter": "python",
   "pygments_lexer": "ipython3",
   "version": "3.11.1"
  }
 },
 "nbformat": 4,
 "nbformat_minor": 5
}
